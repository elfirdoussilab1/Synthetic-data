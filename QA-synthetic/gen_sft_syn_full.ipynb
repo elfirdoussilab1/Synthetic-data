{
 "cells": [
  {
   "cell_type": "code",
   "execution_count": 1,
   "id": "0697709d-efcc-4db5-b6a2-c94c40de0ad1",
   "metadata": {
    "tags": []
   },
   "outputs": [],
   "source": [
    "from datasets import load_dataset, Dataset, DatasetDict\n",
    "from collections import Counter\n",
    "import numpy as np\n",
    "import pandas as pd\n",
    "from datasets import Dataset, Features, Value"
   ]
  },
  {
   "cell_type": "code",
   "execution_count": null,
   "id": "355d6870",
   "metadata": {},
   "outputs": [],
   "source": [
    "\"\"\"\n",
    "This notebook will allow you to generate synthetic dataset based on phi and psi parameter (which defines how much is the verfier is utilised)\n",
    "\"\"\""
   ]
  },
  {
   "cell_type": "code",
   "execution_count": 2,
   "id": "ec988850-7ded-47ce-8984-d288b223edff",
   "metadata": {
    "tags": []
   },
   "outputs": [],
   "source": [
    "out_dir = \"output\"\n",
    "data = pd.read_json(f\"{out_dir}/full_responses_guard.json\")"
   ]
  },
  {
   "cell_type": "code",
   "execution_count": null,
   "id": "35e5b811-1b77-4131-8568-9f40f3eee30a",
   "metadata": {
    "tags": []
   },
   "outputs": [],
   "source": [
    "len(data)"
   ]
  },
  {
   "cell_type": "code",
   "execution_count": 4,
   "id": "3d1b8a50-949a-41a9-b1ac-cb86c5d82287",
   "metadata": {
    "tags": []
   },
   "outputs": [],
   "source": [
    "def extract_resp(msg):\n",
    "    assistant_content = msg[1][\"content\"]\n",
    "    resp = assistant_content[assistant_content.find(\"Agent:\\n\")+7:]\n",
    "    return resp"
   ]
  },
  {
   "cell_type": "code",
   "execution_count": 5,
   "id": "b30c6dcf-cb1a-4b29-a421-fbaaf29e7404",
   "metadata": {
    "tags": []
   },
   "outputs": [],
   "source": [
    "def add_resp(row):\n",
    "    row[\"response\"] = extract_resp(row[\"messages\"])\n",
    "    return row\n",
    "data = data.apply(add_resp, axis=1)"
   ]
  },
  {
   "cell_type": "code",
   "execution_count": null,
   "id": "2d2ae78f-7e40-44a2-9138-9066b5b924f4",
   "metadata": {
    "tags": []
   },
   "outputs": [],
   "source": [
    "data[\"llm_judge\"].value_counts()"
   ]
  },
  {
   "cell_type": "code",
   "execution_count": null,
   "id": "e5944b3d-993d-438c-9e6b-1a6214ad10b3",
   "metadata": {
    "tags": []
   },
   "outputs": [],
   "source": [
    "data[\"Guard\"].value_counts()"
   ]
  },
  {
   "cell_type": "code",
   "execution_count": 8,
   "id": "6881a4c6-72a8-4a7d-829d-42f512be9469",
   "metadata": {
    "tags": []
   },
   "outputs": [],
   "source": [
    "df_agree = data[data[\"llm_judge\"]==data[\"Guard\"]]"
   ]
  },
  {
   "cell_type": "code",
   "execution_count": 9,
   "id": "c624840b-6396-427c-8d47-685ed3abce80",
   "metadata": {
    "tags": []
   },
   "outputs": [],
   "source": [
    "df_disagree = data[~(data[\"llm_judge\"]==data[\"Guard\"])]"
   ]
  },
  {
   "cell_type": "code",
   "execution_count": null,
   "id": "4946401c-7963-45a5-b6a0-e1777787c719",
   "metadata": {
    "tags": []
   },
   "outputs": [],
   "source": [
    "print(f\"agree = {len(df_agree)}\\ndisagree = {len(df_disagree)}\")"
   ]
  },
  {
   "cell_type": "code",
   "execution_count": 11,
   "id": "935f26e9",
   "metadata": {
    "tags": []
   },
   "outputs": [],
   "source": [
    "phi = 1  ## prob selected if llm_judge = Guard (verfier) \n",
    "psi = 1    ## prob selected if llm_judge != Guard (verfier)\n",
    "org = \"<replace with you HF org>\"\n",
    "HF_path = f\"{org}/safety-synthetic-v2-weak\""
   ]
  },
  {
   "cell_type": "code",
   "execution_count": 12,
   "id": "59b51546-479d-4f29-a955-714dc690bc80",
   "metadata": {
    "tags": []
   },
   "outputs": [],
   "source": [
    "def filter_phi(row):\n",
    "    return np.random.choice([False, True],p=[1-phi,phi])\n",
    "def filter_psi(row):\n",
    "    return np.random.choice([False, True],p=[1-psi,psi])"
   ]
  },
  {
   "cell_type": "code",
   "execution_count": 13,
   "id": "c6e20ad8-0a6f-4401-9404-f55d321dc3b4",
   "metadata": {
    "tags": []
   },
   "outputs": [],
   "source": [
    "df_agree_f = df_agree[df_agree.apply(filter_phi,axis=1)]"
   ]
  },
  {
   "cell_type": "code",
   "execution_count": 14,
   "id": "f74ed907-2561-4a31-ab7b-24a4f8e3b837",
   "metadata": {
    "tags": []
   },
   "outputs": [],
   "source": [
    "df_disagree_f = df_disagree[df_disagree.apply(filter_psi,axis=1)]"
   ]
  },
  {
   "cell_type": "code",
   "execution_count": null,
   "id": "4e50fde0-5502-43ec-aa4d-25ecb9202382",
   "metadata": {
    "tags": []
   },
   "outputs": [],
   "source": [
    "print(f\"agree_f = {len(df_agree_f)}\\ndisagree_f = {len(df_disagree_f)}\")"
   ]
  },
  {
   "cell_type": "code",
   "execution_count": 16,
   "id": "81ba1a4f-4ce2-44d6-8470-7b3203190b4a",
   "metadata": {
    "tags": []
   },
   "outputs": [],
   "source": [
    "df_f = pd.concat([df_agree_f,df_disagree_f]).sample(frac=1)[[\"prompt\",\"response\",\"llm_judge\",\"Guard\"]]"
   ]
  },
  {
   "cell_type": "code",
   "execution_count": null,
   "id": "28fb99aa-ddc0-4a54-89b5-7f468b54353d",
   "metadata": {
    "tags": []
   },
   "outputs": [],
   "source": [
    "df_f.head()"
   ]
  },
  {
   "cell_type": "code",
   "execution_count": 18,
   "id": "d4100eb7",
   "metadata": {
    "tags": []
   },
   "outputs": [],
   "source": [
    "sys_prompt = \"You will be given an interaction between 'Human' and 'Agent'. Your task is to classfiy if the 'agent' response is safe or unsafe.\""
   ]
  },
  {
   "cell_type": "code",
   "execution_count": 19,
   "id": "1f52c730-501c-4c02-a5de-8451ad7e0565",
   "metadata": {
    "tags": []
   },
   "outputs": [],
   "source": [
    "def prepare_sft(row):\n",
    "     row[\"input\"] = f\"Human:\\n {row['prompt']}\\n Agent:\\n {row['response']}\"\n",
    "     row[\"messages\"] = [{\"content\": sys_prompt,\"role\":\"system\"}, {\"content\": row['input'],\"role\":\"user\"}, {\"content\":row['llm_judge'].upper(),\"role\":\"assistant\"}]\n",
    "     row[\"category\"] = row[\"llm_judge\"]\n",
    "     return row"
   ]
  },
  {
   "cell_type": "code",
   "execution_count": 20,
   "id": "d630d30d",
   "metadata": {
    "tags": []
   },
   "outputs": [],
   "source": [
    "df_train_sft = df_f.apply(prepare_sft, axis=1)[[\"input\",\"messages\",\"category\"]]"
   ]
  },
  {
   "cell_type": "code",
   "execution_count": null,
   "id": "88cb4b5c-1f63-4666-8c1a-669c47f18d21",
   "metadata": {
    "tags": []
   },
   "outputs": [],
   "source": [
    "df_train_sft"
   ]
  },
  {
   "cell_type": "code",
   "execution_count": null,
   "id": "a00ffecf",
   "metadata": {
    "tags": []
   },
   "outputs": [],
   "source": [
    "hf_train_sft = Dataset.from_pandas(df_train_sft)\n",
    "\n",
    "hf_test_sft = load_dataset(\"PKU-Alignment/PKU-SFT-Safety\", split=\"test\")"
   ]
  },
  {
   "cell_type": "code",
   "execution_count": null,
   "id": "b46e7cca",
   "metadata": {
    "tags": []
   },
   "outputs": [],
   "source": [
    "hf_train_sft"
   ]
  },
  {
   "cell_type": "code",
   "execution_count": null,
   "id": "24e1830f",
   "metadata": {
    "tags": []
   },
   "outputs": [],
   "source": [
    "hf_test_sft = hf_test_sft.select(range(10))\n",
    "hf_test_sft"
   ]
  },
  {
   "cell_type": "code",
   "execution_count": 25,
   "id": "e407f059",
   "metadata": {
    "tags": []
   },
   "outputs": [],
   "source": [
    "SFT_dataset = DatasetDict({\n",
    "    'train': hf_train_sft,\n",
    "    'test': hf_test_sft\n",
    "})"
   ]
  },
  {
   "cell_type": "code",
   "execution_count": null,
   "id": "d6c1ce1c",
   "metadata": {
    "tags": []
   },
   "outputs": [],
   "source": [
    "SFT_dataset"
   ]
  },
  {
   "cell_type": "code",
   "execution_count": null,
   "id": "24e5c653",
   "metadata": {
    "tags": []
   },
   "outputs": [],
   "source": [
    "SFT_dataset.push_to_hub(HF_path,private=True)"
   ]
  },
  {
   "cell_type": "code",
   "execution_count": null,
   "id": "6391f109",
   "metadata": {},
   "outputs": [],
   "source": [
    "load_dataset(f\"{org}/safety-synthetic-ph10-ps10\")"
   ]
  }
 ],
 "metadata": {
  "kernelspec": {
   "display_name": "gen",
   "language": "python",
   "name": "myenv"
  },
  "language_info": {
   "codemirror_mode": {
    "name": "ipython",
    "version": 3
   },
   "file_extension": ".py",
   "mimetype": "text/x-python",
   "name": "python",
   "nbconvert_exporter": "python",
   "pygments_lexer": "ipython3",
   "version": "3.10.12"
  }
 },
 "nbformat": 4,
 "nbformat_minor": 5
}
