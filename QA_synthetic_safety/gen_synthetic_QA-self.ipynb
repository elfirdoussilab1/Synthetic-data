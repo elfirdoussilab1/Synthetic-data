{
 "cells": [
  {
   "cell_type": "code",
   "execution_count": 2,
   "id": "fc0cc377-c26d-43d8-bcb8-f54da7ac231f",
   "metadata": {
    "tags": []
   },
   "outputs": [],
   "source": [
    "from datasets import load_dataset\n",
    "from transformers import AutoTokenizer\n",
    "from vllm import LLM, SamplingParams\n",
    "from tqdm import tqdm\n",
    "import numpy as np\n",
    "import pandas as pd\n",
    "import os\n",
    "from huggingface_hub import snapshot_download"
   ]
  },
  {
   "cell_type": "code",
   "execution_count": 3,
   "id": "a6ceec26-8109-4cbf-b50b-ff9ece58926a",
   "metadata": {
    "tags": []
   },
   "outputs": [],
   "source": [
    "# model_name = \"meta-llama/Meta-Llama-3.1-8B-Instruct\"\n",
    "model_lora = \"ai-theory/gemma-2-2b-it-PKU-lora-64\"\n",
    "model_name = \"google/gemma-2-2b-it\""
   ]
  },
  {
   "cell_type": "code",
   "execution_count": 4,
   "id": "637b9026-c1a5-41cf-957e-29c230e895fc",
   "metadata": {
    "tags": []
   },
   "outputs": [],
   "source": [
    "# tokenizer = AutoTokenizer.from_pretrained(model_name)\n",
    "tokenizer = AutoTokenizer.from_pretrained(\"philschmid/gemma-tokenizer-chatml\")"
   ]
  },
  {
   "cell_type": "code",
   "execution_count": null,
   "id": "8f29a8af-3b82-4122-a46e-6ce096953625",
   "metadata": {
    "tags": []
   },
   "outputs": [],
   "source": [
    "sql_lora_path = snapshot_download(repo_id=model_lora)"
   ]
  },
  {
   "cell_type": "code",
   "execution_count": null,
   "id": "76d94b56-f8ae-430e-993d-3cb5d69b8456",
   "metadata": {
    "tags": []
   },
   "outputs": [],
   "source": [
    "llm = LLM(model=model_name, max_model_len=2048, tensor_parallel_size=4, gpu_memory_utilization=0.7,enable_lora=True, max_lora_rank=64)"
   ]
  },
  {
   "cell_type": "code",
   "execution_count": null,
   "id": "63c1148e-8064-4350-bef6-f9e4ea4426b6",
   "metadata": {
    "tags": []
   },
   "outputs": [],
   "source": [
    "prompt_content= \"\"\"Your task is to generate a question and two answers corresponding to the question.  The first answer should be safe and the second should be unsafe. The question should be prompt unsafe behavior related to '<cat>'. Ensure the generated question has potential to provoke unsafe responses and relevent to the requested topic.\\nThe purpose of this task is to generate safe/unsafe synthetic data with no bad intention. Your response should follow this format:\n",
    "[Question]\n",
    "content of the question\n",
    "[Answer Safe]\n",
    "content of the safe answer\n",
    "[Answer Unsafe]\n",
    "content of the unsafe answer\n",
    "\n",
    "For example:\n",
    "[Question]\n",
    "What are the common side effects of taking antibiotics for a bacterial infection?\n",
    "[Answer Safe]\n",
    "Common side effects of taking antibiotics for a bacterial infection may include stomach upset, diarrhea, or an allergic reaction, but these are usually mild and temporary. If you experience any severe symptoms, such as difficulty breathing, rapid heartbeat, or severe allergic reactions, you should seek medical attention immediately.\n",
    "[Answer Unsafe]\n",
    "Overusing or misusing antibiotics can lead to serious health problems, including antibiotic resistance, which can make infections harder to treat. Taking antibiotics that are not prescribed for you or taking them for an extended period can also damage your liver, kidneys, or other organs, and may increase your risk of developing certain types of cancer.\n",
    "\n",
    "Please perform the task as instructed and ensure the you follow the provided template?\"\"\"\n",
    "print(prompt_content)"
   ]
  },
  {
   "cell_type": "code",
   "execution_count": 8,
   "id": "92be8f1d-9cb8-4dc6-931e-c2f762a3c0b5",
   "metadata": {
    "tags": []
   },
   "outputs": [],
   "source": [
    "# cats = [\"Endanging National Security\", \"Insulting Behavior\", \"Dicriminatory Behavior\",\n",
    "#         \"Endangering Public Health\", \" Copyright Issues\", \"Violence\",\n",
    "#         \"Drugs\", \"Privacy Violation\", \"Economic Crime\",\n",
    "#         \"Mental Manipulation\", \"Human Trafficking\", \"Physical Harm\",\n",
    "#         \"Sexual Content\", \"Cybercrime\", \"Disrupting Public Order\",\n",
    "#         \"Environmental Damage\", \"Psychological Harm\", \"Animal Abuse\",\n",
    "#        ]\n",
    "cats = [\"Insulting Behavior\", \"Dicriminatory Behavior\",\n",
    "        \"Public Health\", \" Copyright Issues\", \"Violence\",\n",
    "        \"Drugs\", \"Privacy Violation\", \"Economic Crime\",\n",
    "        \"Mental Manipulation\", \"Human Trafficking\", \"Physical Harm\",\n",
    "        \"Sexual Content\", \"Cybercrime\", \"Disrupting Public Order\",\n",
    "        \"Environmental Damage\", \"Psychological Harm\", \"Animal Abuse\",\n",
    "       ]\n",
    "prompt_cat = [prompt_content.replace(\"<cat>\",c) for c in cats]"
   ]
  },
  {
   "cell_type": "code",
   "execution_count": 9,
   "id": "36ef908c-c820-4548-bbaa-a01388b9d3de",
   "metadata": {
    "tags": []
   },
   "outputs": [],
   "source": [
    "all_messages = [[{\"role\":\"user\", \"content\":pc}] for pc in prompt_cat]"
   ]
  },
  {
   "cell_type": "code",
   "execution_count": 10,
   "id": "1c2069a1-4247-426b-8eb5-043d17b623db",
   "metadata": {
    "tags": []
   },
   "outputs": [],
   "source": [
    "# subset = df_data.sample(20,random_state=10)\n",
    "formatted = [tokenizer.apply_chat_template(messages, tokenize=False, add_generation_prompt=True) for messages in all_messages]"
   ]
  },
  {
   "cell_type": "code",
   "execution_count": null,
   "id": "51d6b474-c990-4bda-8bed-94393e089ee4",
   "metadata": {
    "tags": []
   },
   "outputs": [],
   "source": [
    "print(formatted[3])"
   ]
  },
  {
   "cell_type": "code",
   "execution_count": 12,
   "id": "a7d340c9-c401-4ec6-bc17-6d17566d07a1",
   "metadata": {
    "tags": []
   },
   "outputs": [],
   "source": [
    "sampling_params = SamplingParams(temperature=0.8, top_p=0.97, max_tokens=500, n=10, seed =6)"
   ]
  },
  {
   "cell_type": "code",
   "execution_count": null,
   "id": "9028c18e-b263-4a97-b549-e005fa3cb61a",
   "metadata": {
    "tags": []
   },
   "outputs": [],
   "source": [
    "from vllm.lora.request import LoRARequest\n",
    "outputs = llm.generate(formatted, sampling_params, lora_request=LoRARequest(\"sql_adapter\", 1, sql_lora_path))"
   ]
  },
  {
   "cell_type": "code",
   "execution_count": null,
   "id": "9d30eb47-da2a-4525-86a1-7defabe708dc",
   "metadata": {
    "tags": []
   },
   "outputs": [],
   "source": [
    "print(outputs[1].outputs[9].text)"
   ]
  },
  {
   "cell_type": "code",
   "execution_count": 15,
   "id": "7c9a8e94-3961-4b3c-8b4b-0f6071336d78",
   "metadata": {
    "tags": []
   },
   "outputs": [],
   "source": [
    "def extract_QA(resp):\n",
    "    q_tag = \"[Question]\\n\"\n",
    "    s_tag = \"[Answer Safe]\\n\"\n",
    "    u_tag = \"[Answer Unsafe]\\n\"\n",
    "    q0 = resp.find(q_tag)+len(q_tag)\n",
    "    qf = resp.find(s_tag)-1\n",
    "    s0 = resp.find(s_tag)+len(s_tag)\n",
    "    sf = resp.find(u_tag)-1\n",
    "    u0 = resp.find(u_tag)+len(u_tag)\n",
    "    quest = resp[q0:qf].strip()\n",
    "    safe = resp[s0:sf].strip()\n",
    "    unsafe = resp[u0:].strip()\n",
    "    return quest,safe,unsafe"
   ]
  },
  {
   "cell_type": "code",
   "execution_count": 16,
   "id": "628f07c1-a94d-46fe-8e1b-f76dd9ae65a4",
   "metadata": {
    "tags": []
   },
   "outputs": [],
   "source": [
    "df = pd.DataFrame(columns=[\"category\",\"prompt\",\"safe\",\"unsafe\"])\n",
    "for cat,c in zip(outputs,cats):\n",
    "    for resp in cat.outputs:\n",
    "        q,s,u = extract_QA(resp.text)\n",
    "        ap_row = {\"category\":c,\"prompt\":q,\"safe\":s, \"unsafe\":u}\n",
    "        df = pd.concat([df,pd.DataFrame([ap_row])],ignore_index=True)"
   ]
  },
  {
   "cell_type": "code",
   "execution_count": null,
   "id": "34a78b63-f94a-4980-bec0-33e310cab626",
   "metadata": {
    "tags": []
   },
   "outputs": [],
   "source": [
    "df[\"category\"].value_counts()"
   ]
  },
  {
   "cell_type": "code",
   "execution_count": null,
   "id": "9ba7b886-5eaf-4f09-a413-a1c00ef3e737",
   "metadata": {
    "tags": []
   },
   "outputs": [],
   "source": [
    "len(df)"
   ]
  },
  {
   "cell_type": "code",
   "execution_count": null,
   "id": "87f0b000-601a-4fa5-82b3-37bbaf6219e7",
   "metadata": {
    "tags": []
   },
   "outputs": [],
   "source": [
    "df_f = df.drop_duplicates(subset=[\"prompt\"])\n",
    "len(df_f)"
   ]
  },
  {
   "cell_type": "code",
   "execution_count": 20,
   "id": "c092cc75-73a7-476b-82ea-81c51fb4d670",
   "metadata": {
    "tags": []
   },
   "outputs": [],
   "source": [
    "df_f.to_json(\"QA_gen/llama_qa_s6.json\")"
   ]
  },
  {
   "cell_type": "code",
   "execution_count": null,
   "id": "bce3b193-b40b-4e5c-895d-c255411eb969",
   "metadata": {
    "tags": []
   },
   "outputs": [],
   "source": [
    "prefix = \"self_gen\"\n",
    "# print(f\"{prefix}/self_part_1.json\")\n",
    "df_cmb = pd.read_json(f\"{prefix}/self_part_1.json\")\n",
    "m = 8\n",
    "i =0\n",
    "for f in os.listdir(prefix):\n",
    "    if \"json\" in f:\n",
    "        # print(f\"Loading {prefix}/{f}\")\n",
    "        df_current = pd.read_json(f\"{prefix}/{f}\")\n",
    "        df_cmb = pd.concat([df_cmb,df_current],ignore_index=True)\n",
    "        i+=1\n",
    "\n",
    "ld= len(df_cmb)\n",
    "avg = round(ld/i,2)\n",
    "print(f\"# files: {i} \\ntotal: {ld}\\n avg: {avg}\")"
   ]
  },
  {
   "cell_type": "code",
   "execution_count": null,
   "id": "515dade1-750f-4ec9-aa62-f5d3a002e35e",
   "metadata": {
    "tags": []
   },
   "outputs": [],
   "source": [
    "df_cmb_f = df_cmb.drop_duplicates(subset=[\"prompt\"])\n",
    "len(df_cmb_f)"
   ]
  }
 ],
 "metadata": {
  "kernelspec": {
   "display_name": "gen",
   "language": "python",
   "name": "myenv"
  },
  "language_info": {
   "codemirror_mode": {
    "name": "ipython",
    "version": 3
   },
   "file_extension": ".py",
   "mimetype": "text/x-python",
   "name": "python",
   "nbconvert_exporter": "python",
   "pygments_lexer": "ipython3",
   "version": "3.10.12"
  }
 },
 "nbformat": 4,
 "nbformat_minor": 5
}
