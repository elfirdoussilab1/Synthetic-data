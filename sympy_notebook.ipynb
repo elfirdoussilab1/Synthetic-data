{
 "cells": [
  {
   "cell_type": "code",
   "execution_count": 1,
   "metadata": {},
   "outputs": [],
   "source": [
    "from sympy import *"
   ]
  },
  {
   "cell_type": "code",
   "execution_count": 2,
   "metadata": {},
   "outputs": [],
   "source": [
    "mu, mu_beta, pi, lam, beta, alpha, delta, delta_s, theta = symbols('mu mu_beta pi lambda beta alpha delta delta_s theta')"
   ]
  },
  {
   "cell_type": "code",
   "execution_count": 7,
   "metadata": {},
   "outputs": [
    {
     "data": {
      "text/latex": [
       "$\\displaystyle \\frac{\\mu^{2} \\left(- \\frac{\\alpha \\beta^{2} \\mu^{2} \\left(1 - \\pi\\right)}{\\alpha \\mu_{\\beta}^{2} \\left(1 - \\pi\\right) + \\theta \\left(\\delta_{s} + 1\\right)} + 1\\right)}{\\theta}$"
      ],
      "text/plain": [
       "mu**2*(-alpha*beta**2*mu**2*(1 - pi)/(alpha*mu_beta**2*(1 - pi) + theta*(delta_s + 1)) + 1)/theta"
      ]
     },
     "execution_count": 7,
     "metadata": {},
     "output_type": "execute_result"
    }
   ],
   "source": [
    "mu_R1_mu = mu**2 * (1 - alpha * (1 - pi) * beta**2 * mu**2 / (theta * (1 + delta_s) + alpha * (1 - pi)* mu_beta**2)) / theta\n",
    "mu_R1_mu"
   ]
  },
  {
   "cell_type": "code",
   "execution_count": 8,
   "metadata": {},
   "outputs": [
    {
     "data": {
      "text/latex": [
       "$\\displaystyle \\frac{\\beta \\mu^{2} \\left(\\delta + 1\\right)}{\\mu^{2} \\pi + \\theta \\left(\\delta + 1\\right)}$"
      ],
      "text/plain": [
       "beta*mu**2*(delta + 1)/(mu**2*pi + theta*(delta + 1))"
      ]
     },
     "execution_count": 8,
     "metadata": {},
     "output_type": "execute_result"
    }
   ],
   "source": [
    "mu_R2_mu_beta = beta * (1 + delta) * mu**2 / (theta * (1 + delta) + pi * mu**2)\n",
    "mu_R2_mu_beta"
   ]
  },
  {
   "cell_type": "code",
   "execution_count": 9,
   "metadata": {},
   "outputs": [
    {
     "data": {
      "text/latex": [
       "$\\displaystyle \\frac{- \\frac{\\beta^{2} \\mu^{4} \\pi}{\\mu^{2} \\pi + \\theta \\left(\\delta + 1\\right)} + \\mu_{\\beta}^{2}}{\\theta}$"
      ],
      "text/plain": [
       "(-beta**2*mu**4*pi/(mu**2*pi + theta*(delta + 1)) + mu_beta**2)/theta"
      ]
     },
     "execution_count": 9,
     "metadata": {},
     "output_type": "execute_result"
    }
   ],
   "source": [
    "mu_beta_R2_mu_beta = (mu_beta**2 - pi * beta**2 * mu**4 / (theta * (1 + delta) + pi * mu**2)) / theta\n",
    "mu_beta_R2_mu_beta"
   ]
  },
  {
   "cell_type": "code",
   "execution_count": 10,
   "metadata": {},
   "outputs": [
    {
     "data": {
      "text/latex": [
       "$\\displaystyle \\frac{\\mu^{2} \\left(\\delta + 1\\right) \\left(\\alpha \\mu_{\\beta}^{2} \\left(1 - \\pi\\right) + \\theta \\left(\\delta_{s} + 1\\right)\\right) \\left(- \\alpha \\beta^{2} \\mu^{2} \\left(\\pi - 1\\right) + \\alpha \\mu_{\\beta}^{2} \\left(\\pi - 1\\right) - \\theta \\left(\\delta_{s} + 1\\right)\\right)}{\\left(- \\alpha \\mu_{\\beta}^{2} \\left(\\pi - 1\\right) + \\theta \\left(\\delta_{s} + 1\\right)\\right) \\left(\\mu^{2} \\pi \\left(\\alpha \\beta^{2} \\mu^{2} \\left(1 - \\pi\\right) - \\alpha \\mu_{\\beta}^{2} \\left(1 - \\pi\\right) - \\theta \\left(\\delta_{s} + 1\\right)\\right) - \\theta \\left(\\delta + 1\\right) \\left(\\alpha \\mu_{\\beta}^{2} \\left(1 - \\pi\\right) + \\theta \\left(\\delta_{s} + 1\\right)\\right)\\right)}$"
      ],
      "text/plain": [
       "mu**2*(delta + 1)*(alpha*mu_beta**2*(1 - pi) + theta*(delta_s + 1))*(-alpha*beta**2*mu**2*(pi - 1) + alpha*mu_beta**2*(pi - 1) - theta*(delta_s + 1))/((-alpha*mu_beta**2*(pi - 1) + theta*(delta_s + 1))*(mu**2*pi*(alpha*beta**2*mu**2*(1 - pi) - alpha*mu_beta**2*(1 - pi) - theta*(delta_s + 1)) - theta*(delta + 1)*(alpha*mu_beta**2*(1 - pi) + theta*(delta_s + 1))))"
      ]
     },
     "execution_count": 10,
     "metadata": {},
     "output_type": "execute_result"
    }
   ],
   "source": [
    "mu_Q_mu = mu_R1_mu / (1 + pi * mu_R1_mu / (1 + delta))\n",
    "simplify(mu_Q_mu)"
   ]
  },
  {
   "cell_type": "code",
   "execution_count": 11,
   "metadata": {},
   "outputs": [
    {
     "data": {
      "text/latex": [
       "$\\displaystyle \\frac{\\beta \\mu^{2} \\theta \\left(\\delta + 1\\right) \\left(\\delta_{s} + 1\\right)}{\\alpha \\left(\\pi - 1\\right) \\left(\\beta^{2} \\mu^{4} \\pi - \\mu_{\\beta}^{2} \\left(\\mu^{2} \\pi + \\theta \\left(\\delta + 1\\right)\\right)\\right) + \\theta \\left(\\delta_{s} + 1\\right) \\left(\\mu^{2} \\pi + \\theta \\left(\\delta + 1\\right)\\right)}$"
      ],
      "text/plain": [
       "beta*mu**2*theta*(delta + 1)*(delta_s + 1)/(alpha*(pi - 1)*(beta**2*mu**4*pi - mu_beta**2*(mu**2*pi + theta*(delta + 1))) + theta*(delta_s + 1)*(mu**2*pi + theta*(delta + 1)))"
      ]
     },
     "execution_count": 11,
     "metadata": {},
     "output_type": "execute_result"
    }
   ],
   "source": [
    "mu_Q_mu_beta = mu_R2_mu_beta / (1 + alpha * (1 - pi) * mu_beta_R2_mu_beta / (1 + delta_s))\n",
    "simplify(mu_Q_mu_beta)"
   ]
  },
  {
   "cell_type": "code",
   "execution_count": 12,
   "metadata": {},
   "outputs": [
    {
     "data": {
      "text/latex": [
       "$\\displaystyle \\frac{\\mu^{2} \\left(\\alpha \\beta^{2} \\mu^{2} \\pi^{2} - \\alpha \\beta^{2} \\mu^{2} \\pi - \\alpha \\mu_{\\beta}^{2} \\pi^{2} + \\alpha \\mu_{\\beta}^{2} \\pi - \\beta \\delta \\lambda \\pi \\theta + \\beta \\delta \\lambda \\theta - \\beta \\lambda \\pi \\theta + \\beta \\lambda \\theta + \\delta_{s} \\pi \\theta + \\pi \\theta\\right)}{\\alpha \\beta^{2} \\mu^{4} \\pi^{2} - \\alpha \\beta^{2} \\mu^{4} \\pi - \\alpha \\delta \\mu_{\\beta}^{2} \\pi \\theta + \\alpha \\delta \\mu_{\\beta}^{2} \\theta - \\alpha \\mu^{2} \\mu_{\\beta}^{2} \\pi^{2} + \\alpha \\mu^{2} \\mu_{\\beta}^{2} \\pi - \\alpha \\mu_{\\beta}^{2} \\pi \\theta + \\alpha \\mu_{\\beta}^{2} \\theta + \\delta \\delta_{s} \\theta^{2} + \\delta \\theta^{2} + \\delta_{s} \\mu^{2} \\pi \\theta + \\delta_{s} \\theta^{2} + \\mu^{2} \\pi \\theta + \\theta^{2}}$"
      ],
      "text/plain": [
       "mu**2*(alpha*beta**2*mu**2*pi**2 - alpha*beta**2*mu**2*pi - alpha*mu_beta**2*pi**2 + alpha*mu_beta**2*pi - beta*delta*lambda*pi*theta + beta*delta*lambda*theta - beta*lambda*pi*theta + beta*lambda*theta + delta_s*pi*theta + pi*theta)/(alpha*beta**2*mu**4*pi**2 - alpha*beta**2*mu**4*pi - alpha*delta*mu_beta**2*pi*theta + alpha*delta*mu_beta**2*theta - alpha*mu**2*mu_beta**2*pi**2 + alpha*mu**2*mu_beta**2*pi - alpha*mu_beta**2*pi*theta + alpha*mu_beta**2*theta + delta*delta_s*theta**2 + delta*theta**2 + delta_s*mu**2*pi*theta + delta_s*theta**2 + mu**2*pi*theta + theta**2)"
      ]
     },
     "execution_count": 12,
     "metadata": {},
     "output_type": "execute_result"
    }
   ],
   "source": [
    "m = pi * mu_Q_mu / (1 + delta) + lam * (1 - pi) * mu_Q_mu_beta / (1 + delta_s)\n",
    "simplify(m)"
   ]
  },
  {
   "cell_type": "code",
   "execution_count": 13,
   "metadata": {},
   "outputs": [],
   "source": [
    "n, d = fraction(m)\n"
   ]
  },
  {
   "cell_type": "code",
   "execution_count": 14,
   "metadata": {},
   "outputs": [
    {
     "data": {
      "text/plain": [
       "[(alpha*beta**2*mu**2 - alpha*mu_beta**2 + beta*delta*lambda*theta + beta*lambda*theta - delta_s*theta - theta - sqrt(alpha**2*beta**4*mu**4 - 2*alpha**2*beta**2*mu**2*mu_beta**2 + alpha**2*mu_beta**4 - 2*alpha*beta**3*delta*lambda*mu**2*theta - 2*alpha*beta**3*lambda*mu**2*theta - 2*alpha*beta**2*delta_s*mu**2*theta - 2*alpha*beta**2*mu**2*theta + 2*alpha*beta*delta*lambda*mu_beta**2*theta + 2*alpha*beta*lambda*mu_beta**2*theta + 2*alpha*delta_s*mu_beta**2*theta + 2*alpha*mu_beta**2*theta + beta**2*delta**2*lambda**2*theta**2 + 2*beta**2*delta*lambda**2*theta**2 + beta**2*lambda**2*theta**2 - 2*beta*delta*delta_s*lambda*theta**2 - 2*beta*delta*lambda*theta**2 - 2*beta*delta_s*lambda*theta**2 - 2*beta*lambda*theta**2 + delta_s**2*theta**2 + 2*delta_s*theta**2 + theta**2))/(2*alpha*beta**2*mu**2 - 2*alpha*mu_beta**2),\n",
       " (alpha*beta**2*mu**2 - alpha*mu_beta**2 + beta*delta*lambda*theta + beta*lambda*theta - delta_s*theta - theta + sqrt(alpha**2*beta**4*mu**4 - 2*alpha**2*beta**2*mu**2*mu_beta**2 + alpha**2*mu_beta**4 - 2*alpha*beta**3*delta*lambda*mu**2*theta - 2*alpha*beta**3*lambda*mu**2*theta - 2*alpha*beta**2*delta_s*mu**2*theta - 2*alpha*beta**2*mu**2*theta + 2*alpha*beta*delta*lambda*mu_beta**2*theta + 2*alpha*beta*lambda*mu_beta**2*theta + 2*alpha*delta_s*mu_beta**2*theta + 2*alpha*mu_beta**2*theta + beta**2*delta**2*lambda**2*theta**2 + 2*beta**2*delta*lambda**2*theta**2 + beta**2*lambda**2*theta**2 - 2*beta*delta*delta_s*lambda*theta**2 - 2*beta*delta*lambda*theta**2 - 2*beta*delta_s*lambda*theta**2 - 2*beta*lambda*theta**2 + delta_s**2*theta**2 + 2*delta_s*theta**2 + theta**2))/(2*alpha*beta**2*mu**2 - 2*alpha*mu_beta**2)]"
      ]
     },
     "execution_count": 14,
     "metadata": {},
     "output_type": "execute_result"
    }
   ],
   "source": [
    "res = solve(n, pi)\n",
    "res"
   ]
  },
  {
   "cell_type": "code",
   "execution_count": 15,
   "metadata": {},
   "outputs": [
    {
     "data": {
      "text/latex": [
       "$\\displaystyle \\frac{\\alpha \\beta^{2} \\mu^{2} - \\alpha \\mu_{\\beta}^{2} + \\beta \\delta \\lambda \\theta + \\beta \\lambda \\theta - \\delta_{s} \\theta - \\theta - \\sqrt{\\alpha^{2} \\beta^{4} \\mu^{4} - 2 \\alpha^{2} \\beta^{2} \\mu^{2} \\mu_{\\beta}^{2} + \\alpha^{2} \\mu_{\\beta}^{4} - 2 \\alpha \\beta^{3} \\delta \\lambda \\mu^{2} \\theta - 2 \\alpha \\beta^{3} \\lambda \\mu^{2} \\theta - 2 \\alpha \\beta^{2} \\delta_{s} \\mu^{2} \\theta - 2 \\alpha \\beta^{2} \\mu^{2} \\theta + 2 \\alpha \\beta \\delta \\lambda \\mu_{\\beta}^{2} \\theta + 2 \\alpha \\beta \\lambda \\mu_{\\beta}^{2} \\theta + 2 \\alpha \\delta_{s} \\mu_{\\beta}^{2} \\theta + 2 \\alpha \\mu_{\\beta}^{2} \\theta + \\beta^{2} \\delta^{2} \\lambda^{2} \\theta^{2} + 2 \\beta^{2} \\delta \\lambda^{2} \\theta^{2} + \\beta^{2} \\lambda^{2} \\theta^{2} - 2 \\beta \\delta \\delta_{s} \\lambda \\theta^{2} - 2 \\beta \\delta \\lambda \\theta^{2} - 2 \\beta \\delta_{s} \\lambda \\theta^{2} - 2 \\beta \\lambda \\theta^{2} + \\delta_{s}^{2} \\theta^{2} + 2 \\delta_{s} \\theta^{2} + \\theta^{2}}}{2 \\alpha \\beta^{2} \\mu^{2} - 2 \\alpha \\mu_{\\beta}^{2}}$"
      ],
      "text/plain": [
       "(alpha*beta**2*mu**2 - alpha*mu_beta**2 + beta*delta*lambda*theta + beta*lambda*theta - delta_s*theta - theta - sqrt(alpha**2*beta**4*mu**4 - 2*alpha**2*beta**2*mu**2*mu_beta**2 + alpha**2*mu_beta**4 - 2*alpha*beta**3*delta*lambda*mu**2*theta - 2*alpha*beta**3*lambda*mu**2*theta - 2*alpha*beta**2*delta_s*mu**2*theta - 2*alpha*beta**2*mu**2*theta + 2*alpha*beta*delta*lambda*mu_beta**2*theta + 2*alpha*beta*lambda*mu_beta**2*theta + 2*alpha*delta_s*mu_beta**2*theta + 2*alpha*mu_beta**2*theta + beta**2*delta**2*lambda**2*theta**2 + 2*beta**2*delta*lambda**2*theta**2 + beta**2*lambda**2*theta**2 - 2*beta*delta*delta_s*lambda*theta**2 - 2*beta*delta*lambda*theta**2 - 2*beta*delta_s*lambda*theta**2 - 2*beta*lambda*theta**2 + delta_s**2*theta**2 + 2*delta_s*theta**2 + theta**2))/(2*alpha*beta**2*mu**2 - 2*alpha*mu_beta**2)"
      ]
     },
     "execution_count": 15,
     "metadata": {},
     "output_type": "execute_result"
    }
   ],
   "source": [
    "res[0]"
   ]
  },
  {
   "cell_type": "code",
   "execution_count": 16,
   "metadata": {},
   "outputs": [
    {
     "data": {
      "text/latex": [
       "$\\displaystyle \\frac{\\alpha \\beta^{2} \\mu^{2} - \\alpha \\mu_{\\beta}^{2} + \\beta \\delta \\lambda \\theta + \\beta \\lambda \\theta - \\delta_{s} \\theta - \\theta + \\sqrt{\\alpha^{2} \\beta^{4} \\mu^{4} - 2 \\alpha^{2} \\beta^{2} \\mu^{2} \\mu_{\\beta}^{2} + \\alpha^{2} \\mu_{\\beta}^{4} - 2 \\alpha \\beta^{3} \\delta \\lambda \\mu^{2} \\theta - 2 \\alpha \\beta^{3} \\lambda \\mu^{2} \\theta - 2 \\alpha \\beta^{2} \\delta_{s} \\mu^{2} \\theta - 2 \\alpha \\beta^{2} \\mu^{2} \\theta + 2 \\alpha \\beta \\delta \\lambda \\mu_{\\beta}^{2} \\theta + 2 \\alpha \\beta \\lambda \\mu_{\\beta}^{2} \\theta + 2 \\alpha \\delta_{s} \\mu_{\\beta}^{2} \\theta + 2 \\alpha \\mu_{\\beta}^{2} \\theta + \\beta^{2} \\delta^{2} \\lambda^{2} \\theta^{2} + 2 \\beta^{2} \\delta \\lambda^{2} \\theta^{2} + \\beta^{2} \\lambda^{2} \\theta^{2} - 2 \\beta \\delta \\delta_{s} \\lambda \\theta^{2} - 2 \\beta \\delta \\lambda \\theta^{2} - 2 \\beta \\delta_{s} \\lambda \\theta^{2} - 2 \\beta \\lambda \\theta^{2} + \\delta_{s}^{2} \\theta^{2} + 2 \\delta_{s} \\theta^{2} + \\theta^{2}}}{2 \\alpha \\beta^{2} \\mu^{2} - 2 \\alpha \\mu_{\\beta}^{2}}$"
      ],
      "text/plain": [
       "(alpha*beta**2*mu**2 - alpha*mu_beta**2 + beta*delta*lambda*theta + beta*lambda*theta - delta_s*theta - theta + sqrt(alpha**2*beta**4*mu**4 - 2*alpha**2*beta**2*mu**2*mu_beta**2 + alpha**2*mu_beta**4 - 2*alpha*beta**3*delta*lambda*mu**2*theta - 2*alpha*beta**3*lambda*mu**2*theta - 2*alpha*beta**2*delta_s*mu**2*theta - 2*alpha*beta**2*mu**2*theta + 2*alpha*beta*delta*lambda*mu_beta**2*theta + 2*alpha*beta*lambda*mu_beta**2*theta + 2*alpha*delta_s*mu_beta**2*theta + 2*alpha*mu_beta**2*theta + beta**2*delta**2*lambda**2*theta**2 + 2*beta**2*delta*lambda**2*theta**2 + beta**2*lambda**2*theta**2 - 2*beta*delta*delta_s*lambda*theta**2 - 2*beta*delta*lambda*theta**2 - 2*beta*delta_s*lambda*theta**2 - 2*beta*lambda*theta**2 + delta_s**2*theta**2 + 2*delta_s*theta**2 + theta**2))/(2*alpha*beta**2*mu**2 - 2*alpha*mu_beta**2)"
      ]
     },
     "execution_count": 16,
     "metadata": {},
     "output_type": "execute_result"
    }
   ],
   "source": [
    "res[1]"
   ]
  },
  {
   "cell_type": "markdown",
   "metadata": {},
   "source": [
    "## Remark:\n",
    "We need the expression of $\\delta$ replace $\\theta$ with its value to get the actual expression of the critical $\\bar \\pi$."
   ]
  },
  {
   "cell_type": "code",
   "execution_count": 17,
   "metadata": {},
   "outputs": [
    {
     "data": {
      "text/plain": [
       "[-(-3*c/a + b**2/a**2)/(3*(sqrt(-4*(-3*c/a + b**2/a**2)**3 + (27*d/a - 9*b*c/a**2 + 2*b**3/a**3)**2)/2 + 27*d/(2*a) - 9*b*c/(2*a**2) + b**3/a**3)**(1/3)) - (sqrt(-4*(-3*c/a + b**2/a**2)**3 + (27*d/a - 9*b*c/a**2 + 2*b**3/a**3)**2)/2 + 27*d/(2*a) - 9*b*c/(2*a**2) + b**3/a**3)**(1/3)/3 - b/(3*a),\n",
       " -(-3*c/a + b**2/a**2)/(3*(-1/2 - sqrt(3)*I/2)*(sqrt(-4*(-3*c/a + b**2/a**2)**3 + (27*d/a - 9*b*c/a**2 + 2*b**3/a**3)**2)/2 + 27*d/(2*a) - 9*b*c/(2*a**2) + b**3/a**3)**(1/3)) - (-1/2 - sqrt(3)*I/2)*(sqrt(-4*(-3*c/a + b**2/a**2)**3 + (27*d/a - 9*b*c/a**2 + 2*b**3/a**3)**2)/2 + 27*d/(2*a) - 9*b*c/(2*a**2) + b**3/a**3)**(1/3)/3 - b/(3*a),\n",
       " -(-3*c/a + b**2/a**2)/(3*(-1/2 + sqrt(3)*I/2)*(sqrt(-4*(-3*c/a + b**2/a**2)**3 + (27*d/a - 9*b*c/a**2 + 2*b**3/a**3)**2)/2 + 27*d/(2*a) - 9*b*c/(2*a**2) + b**3/a**3)**(1/3)) - (-1/2 + sqrt(3)*I/2)*(sqrt(-4*(-3*c/a + b**2/a**2)**3 + (27*d/a - 9*b*c/a**2 + 2*b**3/a**3)**2)/2 + 27*d/(2*a) - 9*b*c/(2*a**2) + b**3/a**3)**(1/3)/3 - b/(3*a)]"
      ]
     },
     "execution_count": 17,
     "metadata": {},
     "output_type": "execute_result"
    }
   ],
   "source": [
    "a, b, c, d , x = symbols('a b c d x')\n",
    "s = a * x**3 + b * x**2 + c * x + d\n",
    "res = solve(s, x)\n",
    "res"
   ]
  },
  {
   "cell_type": "code",
   "execution_count": 18,
   "metadata": {},
   "outputs": [
    {
     "data": {
      "text/latex": [
       "$\\displaystyle - \\frac{- \\frac{3 c}{a} + \\frac{b^{2}}{a^{2}}}{3 \\sqrt[3]{\\frac{\\sqrt{- 4 \\left(- \\frac{3 c}{a} + \\frac{b^{2}}{a^{2}}\\right)^{3} + \\left(\\frac{27 d}{a} - \\frac{9 b c}{a^{2}} + \\frac{2 b^{3}}{a^{3}}\\right)^{2}}}{2} + \\frac{27 d}{2 a} - \\frac{9 b c}{2 a^{2}} + \\frac{b^{3}}{a^{3}}}} - \\frac{\\sqrt[3]{\\frac{\\sqrt{- 4 \\left(- \\frac{3 c}{a} + \\frac{b^{2}}{a^{2}}\\right)^{3} + \\left(\\frac{27 d}{a} - \\frac{9 b c}{a^{2}} + \\frac{2 b^{3}}{a^{3}}\\right)^{2}}}{2} + \\frac{27 d}{2 a} - \\frac{9 b c}{2 a^{2}} + \\frac{b^{3}}{a^{3}}}}{3} - \\frac{b}{3 a}$"
      ],
      "text/plain": [
       "-(-3*c/a + b**2/a**2)/(3*(sqrt(-4*(-3*c/a + b**2/a**2)**3 + (27*d/a - 9*b*c/a**2 + 2*b**3/a**3)**2)/2 + 27*d/(2*a) - 9*b*c/(2*a**2) + b**3/a**3)**(1/3)) - (sqrt(-4*(-3*c/a + b**2/a**2)**3 + (27*d/a - 9*b*c/a**2 + 2*b**3/a**3)**2)/2 + 27*d/(2*a) - 9*b*c/(2*a**2) + b**3/a**3)**(1/3)/3 - b/(3*a)"
      ]
     },
     "execution_count": 18,
     "metadata": {},
     "output_type": "execute_result"
    }
   ],
   "source": [
    "res[0]"
   ]
  },
  {
   "cell_type": "code",
   "execution_count": 19,
   "metadata": {},
   "outputs": [
    {
     "data": {
      "text/latex": [
       "$\\displaystyle - \\frac{- \\frac{3 c}{a} + \\frac{b^{2}}{a^{2}}}{3 \\left(- \\frac{1}{2} - \\frac{\\sqrt{3} i}{2}\\right) \\sqrt[3]{\\frac{\\sqrt{- 4 \\left(- \\frac{3 c}{a} + \\frac{b^{2}}{a^{2}}\\right)^{3} + \\left(\\frac{27 d}{a} - \\frac{9 b c}{a^{2}} + \\frac{2 b^{3}}{a^{3}}\\right)^{2}}}{2} + \\frac{27 d}{2 a} - \\frac{9 b c}{2 a^{2}} + \\frac{b^{3}}{a^{3}}}} - \\frac{\\left(- \\frac{1}{2} - \\frac{\\sqrt{3} i}{2}\\right) \\sqrt[3]{\\frac{\\sqrt{- 4 \\left(- \\frac{3 c}{a} + \\frac{b^{2}}{a^{2}}\\right)^{3} + \\left(\\frac{27 d}{a} - \\frac{9 b c}{a^{2}} + \\frac{2 b^{3}}{a^{3}}\\right)^{2}}}{2} + \\frac{27 d}{2 a} - \\frac{9 b c}{2 a^{2}} + \\frac{b^{3}}{a^{3}}}}{3} - \\frac{b}{3 a}$"
      ],
      "text/plain": [
       "-(-3*c/a + b**2/a**2)/(3*(-1/2 - sqrt(3)*I/2)*(sqrt(-4*(-3*c/a + b**2/a**2)**3 + (27*d/a - 9*b*c/a**2 + 2*b**3/a**3)**2)/2 + 27*d/(2*a) - 9*b*c/(2*a**2) + b**3/a**3)**(1/3)) - (-1/2 - sqrt(3)*I/2)*(sqrt(-4*(-3*c/a + b**2/a**2)**3 + (27*d/a - 9*b*c/a**2 + 2*b**3/a**3)**2)/2 + 27*d/(2*a) - 9*b*c/(2*a**2) + b**3/a**3)**(1/3)/3 - b/(3*a)"
      ]
     },
     "execution_count": 19,
     "metadata": {},
     "output_type": "execute_result"
    }
   ],
   "source": [
    "res[1]"
   ]
  },
  {
   "cell_type": "code",
   "execution_count": 20,
   "metadata": {},
   "outputs": [
    {
     "data": {
      "text/latex": [
       "$\\displaystyle - \\frac{- \\frac{3 c}{a} + \\frac{b^{2}}{a^{2}}}{3 \\left(- \\frac{1}{2} + \\frac{\\sqrt{3} i}{2}\\right) \\sqrt[3]{\\frac{\\sqrt{- 4 \\left(- \\frac{3 c}{a} + \\frac{b^{2}}{a^{2}}\\right)^{3} + \\left(\\frac{27 d}{a} - \\frac{9 b c}{a^{2}} + \\frac{2 b^{3}}{a^{3}}\\right)^{2}}}{2} + \\frac{27 d}{2 a} - \\frac{9 b c}{2 a^{2}} + \\frac{b^{3}}{a^{3}}}} - \\frac{\\left(- \\frac{1}{2} + \\frac{\\sqrt{3} i}{2}\\right) \\sqrt[3]{\\frac{\\sqrt{- 4 \\left(- \\frac{3 c}{a} + \\frac{b^{2}}{a^{2}}\\right)^{3} + \\left(\\frac{27 d}{a} - \\frac{9 b c}{a^{2}} + \\frac{2 b^{3}}{a^{3}}\\right)^{2}}}{2} + \\frac{27 d}{2 a} - \\frac{9 b c}{2 a^{2}} + \\frac{b^{3}}{a^{3}}}}{3} - \\frac{b}{3 a}$"
      ],
      "text/plain": [
       "-(-3*c/a + b**2/a**2)/(3*(-1/2 + sqrt(3)*I/2)*(sqrt(-4*(-3*c/a + b**2/a**2)**3 + (27*d/a - 9*b*c/a**2 + 2*b**3/a**3)**2)/2 + 27*d/(2*a) - 9*b*c/(2*a**2) + b**3/a**3)**(1/3)) - (-1/2 + sqrt(3)*I/2)*(sqrt(-4*(-3*c/a + b**2/a**2)**3 + (27*d/a - 9*b*c/a**2 + 2*b**3/a**3)**2)/2 + 27*d/(2*a) - 9*b*c/(2*a**2) + b**3/a**3)**(1/3)/3 - b/(3*a)"
      ]
     },
     "execution_count": 20,
     "metadata": {},
     "output_type": "execute_result"
    }
   ],
   "source": [
    "res[2]"
   ]
  },
  {
   "cell_type": "code",
   "execution_count": null,
   "metadata": {},
   "outputs": [],
   "source": []
  }
 ],
 "metadata": {
  "kernelspec": {
   "display_name": ".venv",
   "language": "python",
   "name": "python3"
  },
  "language_info": {
   "codemirror_mode": {
    "name": "ipython",
    "version": 3
   },
   "file_extension": ".py",
   "mimetype": "text/x-python",
   "name": "python",
   "nbconvert_exporter": "python",
   "pygments_lexer": "ipython3",
   "version": "3.9.6"
  }
 },
 "nbformat": 4,
 "nbformat_minor": 2
}
